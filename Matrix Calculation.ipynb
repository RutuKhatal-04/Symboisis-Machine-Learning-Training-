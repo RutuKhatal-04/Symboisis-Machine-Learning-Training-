{
 "cells": [
  {
   "cell_type": "markdown",
   "metadata": {},
   "source": [
    "Matrix Calculation in juypiter "
   ]
  },
  {
   "cell_type": "code",
   "execution_count": 2,
   "metadata": {},
   "outputs": [
    {
     "name": "stdout",
     "output_type": "stream",
     "text": [
      "[[1, 2, 3], [3, 4, 6], [4, 6, 7]]\n",
      "<class 'list'>\n"
     ]
    }
   ],
   "source": [
    "vector=[[1,2,3],[3,4,6],[4,6,7]]\n",
    "print(vector)\n",
    "print(type(vector))"
   ]
  },
  {
   "cell_type": "code",
   "execution_count": 3,
   "metadata": {},
   "outputs": [
    {
     "name": "stdout",
     "output_type": "stream",
     "text": [
      "[[1, 2, 3], [3, 4, 6], [4, 6, 7], [3, 4, 5], [5, 6, 7], [7, 8, 9]]\n"
     ]
    }
   ],
   "source": [
    "vector1=[[3,4,5],[5,6,7],[7,8,9]]\n",
    "print(vector+vector1)  \n",
    "# Concatinating the vectors "
   ]
  },
  {
   "cell_type": "code",
   "execution_count": 4,
   "metadata": {},
   "outputs": [],
   "source": [
    "import numpy as np\n",
    "# Python library working for arrays\n",
    "# popular module for vector calculation"
   ]
  },
  {
   "cell_type": "code",
   "execution_count": 5,
   "metadata": {},
   "outputs": [
    {
     "name": "stdout",
     "output_type": "stream",
     "text": [
      "[[10 15]]\n",
      "[[20  9]]\n"
     ]
    }
   ],
   "source": [
    "a=np.array([[10,15]])\n",
    "b=np.array([[20,9]])\n",
    "print(a)\n",
    "print(b)"
   ]
  },
  {
   "cell_type": "code",
   "execution_count": 7,
   "metadata": {},
   "outputs": [
    {
     "name": "stdout",
     "output_type": "stream",
     "text": [
      "<class 'numpy.ndarray'>\n",
      "[[10 15]]\n"
     ]
    }
   ],
   "source": [
    "print(type(a))\n",
    "print(a)"
   ]
  },
  {
   "cell_type": "code",
   "execution_count": 15,
   "metadata": {},
   "outputs": [
    {
     "name": "stdout",
     "output_type": "stream",
     "text": [
      "[[10 15]]\n",
      "[10 15]\n"
     ]
    }
   ],
   "source": [
    "print(a[[0]]) #[[10,15]]\n",
    "print(a[0])  #[10,15]"
   ]
  },
  {
   "cell_type": "code",
   "execution_count": 16,
   "metadata": {},
   "outputs": [
    {
     "name": "stdout",
     "output_type": "stream",
     "text": [
      "[[30 24]]\n"
     ]
    }
   ],
   "source": [
    "# Addition of Two Vectors\n",
    "print(a+b)"
   ]
  },
  {
   "cell_type": "code",
   "execution_count": 19,
   "metadata": {},
   "outputs": [
    {
     "name": "stdout",
     "output_type": "stream",
     "text": [
      "[[10]\n",
      " [15]]\n",
      "[[30]\n",
      " [24]]\n"
     ]
    }
   ],
   "source": [
    "print(a.T)\n",
    "print((a+b).T)\n"
   ]
  },
  {
   "cell_type": "code",
   "execution_count": 20,
   "metadata": {},
   "outputs": [
    {
     "name": "stdout",
     "output_type": "stream",
     "text": [
      "[[-10   6]]\n"
     ]
    }
   ],
   "source": [
    "print(a-b)"
   ]
  },
  {
   "cell_type": "code",
   "execution_count": 22,
   "metadata": {},
   "outputs": [
    {
     "name": "stdout",
     "output_type": "stream",
     "text": [
      "[[ True]\n",
      " [ True]]\n"
     ]
    }
   ],
   "source": [
    "print((a-b).T==a.T-b.T)"
   ]
  },
  {
   "cell_type": "code",
   "execution_count": 28,
   "metadata": {},
   "outputs": [
    {
     "name": "stdout",
     "output_type": "stream",
     "text": [
      "[[1 2 3]\n",
      " [3 4 6]\n",
      " [4 6 7]] =a\n",
      "[[3 4 5]\n",
      " [5 6 7]\n",
      " [7 8 9]] =b\n",
      "[[ 3  8 15]\n",
      " [15 24 42]\n",
      " [28 48 63]]\n"
     ]
    }
   ],
   "source": [
    "#Matrix Multiplication\n",
    "a=np.array([[1,2,3],[3,4,6],[4,6,7]])\n",
    "b=np.array([[3,4,5],[5,6,7],[7,8,9]])\n",
    "print(a,end=' =a\\n')\n",
    "print(b,end=' =b\\n')\n",
    "# \\n for next line \n",
    "print(a*b)"
   ]
  },
  {
   "cell_type": "code",
   "execution_count": 29,
   "metadata": {},
   "outputs": [
    {
     "name": "stdout",
     "output_type": "stream",
     "text": [
      "[[ 3 15 28]\n",
      " [ 8 24 48]\n",
      " [15 42 63]]\n"
     ]
    }
   ],
   "source": [
    "print((a*b).T)"
   ]
  },
  {
   "cell_type": "code",
   "execution_count": 30,
   "metadata": {},
   "outputs": [
    {
     "name": "stdout",
     "output_type": "stream",
     "text": [
      "[[12 16 20]\n",
      " [20 24 28]\n",
      " [28 32 36]]\n"
     ]
    }
   ],
   "source": [
    "# Matrix Scalar Multiplication\n",
    "a=4\n",
    "print(a*b)\n"
   ]
  },
  {
   "cell_type": "code",
   "execution_count": 36,
   "metadata": {},
   "outputs": [
    {
     "name": "stdout",
     "output_type": "stream",
     "text": [
      "[ 82 128]\n"
     ]
    }
   ],
   "source": [
    "# Matrix Vector Multiplication\n",
    "a=np.array([[3,4],[5,6]])\n",
    "b=np.array([10,13])\n",
    "print(np.dot(a,b))\n"
   ]
  },
  {
   "cell_type": "code",
   "execution_count": 38,
   "metadata": {},
   "outputs": [
    {
     "name": "stdout",
     "output_type": "stream",
     "text": [
      "[[3 4]\n",
      " [5 6]]=a\n",
      "[[3 5]\n",
      " [4 6]] =aT\n"
     ]
    }
   ],
   "source": [
    "# Transpose Of Matrix\n",
    "print(a,end='=a\\n')\n",
    "print(a.T,end=' =aT\\n')\n"
   ]
  },
  {
   "cell_type": "code",
   "execution_count": 41,
   "metadata": {},
   "outputs": [
    {
     "name": "stdout",
     "output_type": "stream",
     "text": [
      "[[1. 0.]\n",
      " [0. 1.]]=I1\n",
      "[[1. 0. 0.]\n",
      " [0. 1. 0.]\n",
      " [0. 0. 1.]]=I2\n",
      "[[1. 0. 0. 0. 0.]\n",
      " [0. 1. 0. 0. 0.]\n",
      " [0. 0. 1. 0. 0.]\n",
      " [0. 0. 0. 1. 0.]]\n"
     ]
    }
   ],
   "source": [
    "#Create a Identity Matrix\n",
    "\n",
    "I1 =np.eye(2)\n",
    "I2=np.eye(3)\n",
    "I3=np.eye(4,5)\n",
    "# The np.eye function in NumPy is used to create a 2-D array with ones on the diagonal and zeros elsewhere.\n",
    "# The np.eye(N, M=None, k=0, dtype=float, order='C') function has the following parameters:\n",
    "\n",
    "# N: The number of rows in the output matrix.\n",
    "\n",
    "print(I1,end='=I1\\n')\n",
    "print(I2,end='=I2\\n')\n",
    "print(I3)"
   ]
  },
  {
   "cell_type": "code",
   "execution_count": 43,
   "metadata": {},
   "outputs": [
    {
     "ename": "TypeError",
     "evalue": "array() takes from 1 to 2 positional arguments but 3 were given",
     "output_type": "error",
     "traceback": [
      "\u001b[1;31m---------------------------------------------------------------------------\u001b[0m",
      "\u001b[1;31mTypeError\u001b[0m                                 Traceback (most recent call last)",
      "Cell \u001b[1;32mIn[43], line 4\u001b[0m\n\u001b[0;32m      1\u001b[0m \u001b[38;5;66;03m#Inverse a Matrix \u001b[39;00m\n\u001b[0;32m      2\u001b[0m \u001b[38;5;66;03m# Given a sqaure matric return a matrix ainv satisfying dot(a,ainv )=dot(ainv,a)=eye(a.shape[0])\u001b[39;00m\n\u001b[1;32m----> 4\u001b[0m a\u001b[38;5;241m=\u001b[39m\u001b[43mnp\u001b[49m\u001b[38;5;241;43m.\u001b[39;49m\u001b[43marray\u001b[49m\u001b[43m(\u001b[49m\u001b[43m[\u001b[49m\u001b[38;5;241;43m1\u001b[39;49m\u001b[43m,\u001b[49m\u001b[38;5;241;43m2\u001b[39;49m\u001b[43m,\u001b[49m\u001b[38;5;241;43m3\u001b[39;49m\u001b[43m]\u001b[49m\u001b[43m,\u001b[49m\u001b[43m[\u001b[49m\u001b[38;5;241;43m2\u001b[39;49m\u001b[43m,\u001b[49m\u001b[38;5;241;43m3\u001b[39;49m\u001b[43m,\u001b[49m\u001b[38;5;241;43m4\u001b[39;49m\u001b[43m]\u001b[49m\u001b[43m,\u001b[49m\u001b[43m[\u001b[49m\u001b[38;5;241;43m3\u001b[39;49m\u001b[43m,\u001b[49m\u001b[38;5;241;43m4\u001b[39;49m\u001b[43m,\u001b[49m\u001b[38;5;241;43m5\u001b[39;49m\u001b[43m]\u001b[49m\u001b[43m)\u001b[49m\n\u001b[0;32m      5\u001b[0m \u001b[38;5;28mprint\u001b[39m(a,end\u001b[38;5;241m=\u001b[39m\u001b[38;5;124m'\u001b[39m\u001b[38;5;124m=a\u001b[39m\u001b[38;5;130;01m\\n\u001b[39;00m\u001b[38;5;124m'\u001b[39m)\n\u001b[0;32m      6\u001b[0m \u001b[38;5;28mprint\u001b[39m(np\u001b[38;5;241m.\u001b[39mlinalg\u001b[38;5;241m.\u001b[39minv(a),end\u001b[38;5;241m=\u001b[39m\u001b[38;5;124m'\u001b[39m\u001b[38;5;124m =|a|\u001b[39m\u001b[38;5;124m'\u001b[39m)\n",
      "\u001b[1;31mTypeError\u001b[0m: array() takes from 1 to 2 positional arguments but 3 were given"
     ]
    }
   ],
   "source": [
    "#Inverse a Matrix \n",
    "# Given a sqaure matric return a matrix ainv satisfying dot(a,ainv )=dot(ainv,a)=eye(a.shape[0])\n",
    "\n",
    "a=np.array([1,2,3],[2,3,4],[3,4,5])\n",
    "print(a,end='=a\\n')\n",
    "print(np.linalg.inv(a),end=' =|a|')"
   ]
  }
 ],
 "metadata": {
  "kernelspec": {
   "display_name": "Python 3",
   "language": "python",
   "name": "python3"
  },
  "language_info": {
   "codemirror_mode": {
    "name": "ipython",
    "version": 3
   },
   "file_extension": ".py",
   "mimetype": "text/x-python",
   "name": "python",
   "nbconvert_exporter": "python",
   "pygments_lexer": "ipython3",
   "version": "3.10.11"
  }
 },
 "nbformat": 4,
 "nbformat_minor": 2
}
