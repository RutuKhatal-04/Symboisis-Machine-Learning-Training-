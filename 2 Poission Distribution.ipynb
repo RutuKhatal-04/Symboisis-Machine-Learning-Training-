{
 "cells": [
  {
   "cell_type": "markdown",
   "id": "b9088e15",
   "metadata": {},
   "source": [
    "# POISSION DISTRIBUTION"
   ]
  },
  {
   "cell_type": "raw",
   "id": "5b04ecd2",
   "metadata": {},
   "source": [
    "Example of Poision Distribution"
   ]
  },
  {
   "cell_type": "raw",
   "id": "f34d0cc6",
   "metadata": {},
   "source": [
    "The number of calls arriving at call center follows a Poission distribution at 10 calls per hour."
   ]
  },
  {
   "cell_type": "raw",
   "id": "8fe91e80",
   "metadata": {},
   "source": [
    "1. Claculate the probability that the number of calls will be maximum 5.\n",
    "2. Claculate the probability that the number of calls over a 3-hours period will exceed 30."
   ]
  },
  {
   "cell_type": "markdown",
   "id": "642c07cf",
   "metadata": {},
   "source": [
    "1. Calculate the probability that a maximum of 5 calls will arrive at the call centre."
   ]
  },
  {
   "cell_type": "raw",
   "id": "eff65f75",
   "metadata": {},
   "source": [
    "As the number of calls arriving at the center follwis Possion distribution, we can use stat.poission.cdf to calculate the probability value. It takes the following two parameters:\n",
    "    a) First parameter: Number of events(in this case, 5 calls) for which the probability needs to be calculated.\n",
    "    b) Second parameter : The aveerage numbrs of events (ie 10 calls per hour)"
   ]
  },
  {
   "cell_type": "code",
   "execution_count": 1,
   "id": "38ece94b",
   "metadata": {},
   "outputs": [],
   "source": [
    "from scipy import stats"
   ]
  },
  {
   "cell_type": "code",
   "execution_count": 2,
   "id": "be8efc2f",
   "metadata": {},
   "outputs": [],
   "source": [
    "import matplotlib.pyplot as plt"
   ]
  },
  {
   "cell_type": "code",
   "execution_count": 3,
   "id": "4e22e427",
   "metadata": {},
   "outputs": [],
   "source": [
    "import seaborn as sn"
   ]
  },
  {
   "cell_type": "code",
   "execution_count": 4,
   "id": "f926e05c",
   "metadata": {},
   "outputs": [
    {
     "data": {
      "text/plain": [
       "0.06708596287903189"
      ]
     },
     "execution_count": 4,
     "metadata": {},
     "output_type": "execute_result"
    }
   ],
   "source": [
    "stats.poisson.cdf(5,10)"
   ]
  },
  {
   "cell_type": "raw",
   "id": "7d0e5ad5",
   "metadata": {},
   "source": [
    "The corresponding probability is 0.067"
   ]
  },
  {
   "cell_type": "markdown",
   "id": "5ccb4d9a",
   "metadata": {},
   "source": [
    "2. Calculate the probability that the numbe of calls over a 3-hour period will exceed 30."
   ]
  },
  {
   "cell_type": "raw",
   "id": "97ab6ede",
   "metadata": {},
   "source": [
    "Since the average calls per hour is 10(λ=10), and we are intereste in finding the calls over 3 hours. the mean number of calls over 3hours is λ t=30. Probability that the number of calls will be more than 30 is given by"
   ]
  },
  {
   "cell_type": "code",
   "execution_count": 5,
   "id": "31cf6cfd",
   "metadata": {},
   "outputs": [
    {
     "data": {
      "text/plain": [
       "0.45164848742208863"
      ]
     },
     "execution_count": 5,
     "metadata": {},
     "output_type": "execute_result"
    }
   ],
   "source": [
    "1-stats.poisson.cdf(30,30)"
   ]
  },
  {
   "cell_type": "raw",
   "id": "d2cdbdb4",
   "metadata": {},
   "source": [
    "The corresponding probability is 0.451.\n",
    "    To visualize the Poisson distribution for the average calls per hour as 10, we can plot PMF for all possible number of calls the call center canc receive ranging from 0 to 30. We will create a DataFrame which will contain the number of calls ranging from 0 to 30 in one column named success and the corresponding PMFs is another column named pmf. The plotting is done using barplot in seaborn library."
   ]
  },
  {
   "cell_type": "code",
   "execution_count": 6,
   "id": "e1367a93",
   "metadata": {},
   "outputs": [],
   "source": [
    "import pandas as pd"
   ]
  },
  {
   "cell_type": "code",
   "execution_count": 7,
   "id": "8387290b",
   "metadata": {},
   "outputs": [
    {
     "data": {
      "text/plain": [
       "Text(0.5, 0, 'Number of calls Received')"
      ]
     },
     "execution_count": 7,
     "metadata": {},
     "output_type": "execute_result"
    },
    {
     "data": {
      "image/png": "[encoded data removed]",
      "text/plain": [
       "<Figure size 432x288 with 1 Axes>"
      ]
     },
     "metadata": {
      "needs_background": "light"
     },
     "output_type": "display_data"
    }
   ],
   "source": [
    "# Range(0,30) returns all values from 0 to 30 (excluding 30)\n",
    "pmf_df=pd.DataFrame({'success':range(0,30),'pmf':list(stats.poisson.pmf(range(0,30),10))})\n",
    "\n",
    "#Creating a barplot with number of calls as x and pmf as y\n",
    "sn.barplot(x=pmf_df.success, y=pmf_df.pmf)\n",
    "plt.xlabel('Number of calls Received')"
   ]
  },
  {
   "cell_type": "code",
   "execution_count": 8,
   "id": "e35ac639",
   "metadata": {},
   "outputs": [
    {
     "data": {
      "text/html": [
       "<div>\n",
       "<style scoped>\n",
       "    .dataframe tbody tr th:only-of-type {\n",
       "        vertical-align: middle;\n",
       "    }\n",
       "\n",
       "    .dataframe tbody tr th {\n",
       "        vertical-align: top;\n",
       "    }\n",
       "\n",
       "    .dataframe thead th {\n",
       "        text-align: right;\n",
       "    }\n",
       "</style>\n",
       "<table border=\"1\" class=\"dataframe\">\n",
       "  <thead>\n",
       "    <tr style=\"text-align: right;\">\n",
       "      <th></th>\n",
       "      <th>success</th>\n",
       "      <th>pmf</th>\n",
       "    </tr>\n",
       "  </thead>\n",
       "  <tbody>\n",
       "    <tr>\n",
       "      <th>0</th>\n",
       "      <td>0</td>\n",
       "      <td>4.539993e-05</td>\n",
       "    </tr>\n",
       "    <tr>\n",
       "      <th>1</th>\n",
       "      <td>1</td>\n",
       "      <td>4.539993e-04</td>\n",
       "    </tr>\n",
       "    <tr>\n",
       "      <th>2</th>\n",
       "      <td>2</td>\n",
       "      <td>2.269996e-03</td>\n",
       "    </tr>\n",
       "    <tr>\n",
       "      <th>3</th>\n",
       "      <td>3</td>\n",
       "      <td>7.566655e-03</td>\n",
       "    </tr>\n",
       "    <tr>\n",
       "      <th>4</th>\n",
       "      <td>4</td>\n",
       "      <td>1.891664e-02</td>\n",
       "    </tr>\n",
       "    <tr>\n",
       "      <th>5</th>\n",
       "      <td>5</td>\n",
       "      <td>3.783327e-02</td>\n",
       "    </tr>\n",
       "    <tr>\n",
       "      <th>6</th>\n",
       "      <td>6</td>\n",
       "      <td>6.305546e-02</td>\n",
       "    </tr>\n",
       "    <tr>\n",
       "      <th>7</th>\n",
       "      <td>7</td>\n",
       "      <td>9.007923e-02</td>\n",
       "    </tr>\n",
       "    <tr>\n",
       "      <th>8</th>\n",
       "      <td>8</td>\n",
       "      <td>1.125990e-01</td>\n",
       "    </tr>\n",
       "    <tr>\n",
       "      <th>9</th>\n",
       "      <td>9</td>\n",
       "      <td>1.251100e-01</td>\n",
       "    </tr>\n",
       "    <tr>\n",
       "      <th>10</th>\n",
       "      <td>10</td>\n",
       "      <td>1.251100e-01</td>\n",
       "    </tr>\n",
       "    <tr>\n",
       "      <th>11</th>\n",
       "      <td>11</td>\n",
       "      <td>1.137364e-01</td>\n",
       "    </tr>\n",
       "    <tr>\n",
       "      <th>12</th>\n",
       "      <td>12</td>\n",
       "      <td>9.478033e-02</td>\n",
       "    </tr>\n",
       "    <tr>\n",
       "      <th>13</th>\n",
       "      <td>13</td>\n",
       "      <td>7.290795e-02</td>\n",
       "    </tr>\n",
       "    <tr>\n",
       "      <th>14</th>\n",
       "      <td>14</td>\n",
       "      <td>5.207710e-02</td>\n",
       "    </tr>\n",
       "    <tr>\n",
       "      <th>15</th>\n",
       "      <td>15</td>\n",
       "      <td>3.471807e-02</td>\n",
       "    </tr>\n",
       "    <tr>\n",
       "      <th>16</th>\n",
       "      <td>16</td>\n",
       "      <td>2.169879e-02</td>\n",
       "    </tr>\n",
       "    <tr>\n",
       "      <th>17</th>\n",
       "      <td>17</td>\n",
       "      <td>1.276400e-02</td>\n",
       "    </tr>\n",
       "    <tr>\n",
       "      <th>18</th>\n",
       "      <td>18</td>\n",
       "      <td>7.091109e-03</td>\n",
       "    </tr>\n",
       "    <tr>\n",
       "      <th>19</th>\n",
       "      <td>19</td>\n",
       "      <td>3.732163e-03</td>\n",
       "    </tr>\n",
       "    <tr>\n",
       "      <th>20</th>\n",
       "      <td>20</td>\n",
       "      <td>1.866081e-03</td>\n",
       "    </tr>\n",
       "    <tr>\n",
       "      <th>21</th>\n",
       "      <td>21</td>\n",
       "      <td>8.886101e-04</td>\n",
       "    </tr>\n",
       "    <tr>\n",
       "      <th>22</th>\n",
       "      <td>22</td>\n",
       "      <td>4.039137e-04</td>\n",
       "    </tr>\n",
       "    <tr>\n",
       "      <th>23</th>\n",
       "      <td>23</td>\n",
       "      <td>1.756147e-04</td>\n",
       "    </tr>\n",
       "    <tr>\n",
       "      <th>24</th>\n",
       "      <td>24</td>\n",
       "      <td>7.317277e-05</td>\n",
       "    </tr>\n",
       "    <tr>\n",
       "      <th>25</th>\n",
       "      <td>25</td>\n",
       "      <td>2.926911e-05</td>\n",
       "    </tr>\n",
       "    <tr>\n",
       "      <th>26</th>\n",
       "      <td>26</td>\n",
       "      <td>1.125735e-05</td>\n",
       "    </tr>\n",
       "    <tr>\n",
       "      <th>27</th>\n",
       "      <td>27</td>\n",
       "      <td>4.169389e-06</td>\n",
       "    </tr>\n",
       "    <tr>\n",
       "      <th>28</th>\n",
       "      <td>28</td>\n",
       "      <td>1.489067e-06</td>\n",
       "    </tr>\n",
       "    <tr>\n",
       "      <th>29</th>\n",
       "      <td>29</td>\n",
       "      <td>5.134715e-07</td>\n",
       "    </tr>\n",
       "  </tbody>\n",
       "</table>\n",
       "</div>"
      ],
      "text/plain": [
       "    success           pmf\n",
       "0         0  4.539993e-05\n",
       "1         1  4.539993e-04\n",
       "2         2  2.269996e-03\n",
       "3         3  7.566655e-03\n",
       "4         4  1.891664e-02\n",
       "5         5  3.783327e-02\n",
       "6         6  6.305546e-02\n",
       "7         7  9.007923e-02\n",
       "8         8  1.125990e-01\n",
       "9         9  1.251100e-01\n",
       "10       10  1.251100e-01\n",
       "11       11  1.137364e-01\n",
       "12       12  9.478033e-02\n",
       "13       13  7.290795e-02\n",
       "14       14  5.207710e-02\n",
       "15       15  3.471807e-02\n",
       "16       16  2.169879e-02\n",
       "17       17  1.276400e-02\n",
       "18       18  7.091109e-03\n",
       "19       19  3.732163e-03\n",
       "20       20  1.866081e-03\n",
       "21       21  8.886101e-04\n",
       "22       22  4.039137e-04\n",
       "23       23  1.756147e-04\n",
       "24       24  7.317277e-05\n",
       "25       25  2.926911e-05\n",
       "26       26  1.125735e-05\n",
       "27       27  4.169389e-06\n",
       "28       28  1.489067e-06\n",
       "29       29  5.134715e-07"
      ]
     },
     "execution_count": 8,
     "metadata": {},
     "output_type": "execute_result"
    }
   ],
   "source": [
    "pmf_df"
   ]
  },
  {
   "cell_type": "markdown",
   "id": "128bd8a9",
   "metadata": {},
   "source": [
    "# scipy.stats.poisson"
   ]
  },
  {
   "cell_type": "raw",
   "id": "efe6475d",
   "metadata": {},
   "source": [
    "scipy.stats.poisson\n",
    "scipy.stats.poisson = <scipy.stats._discrete_distns.poisson_gen object>[source]\n",
    "A Poisson discrete random variable.\n",
    "\n",
    "As an instance of the rv_discrete class, poisson object inherits from it a collection of generic methods (see below for the full list), and completes them with details specific for this particular distribution.\n",
    "\n",
    "Notes\n",
    "\n",
    "The probability mass function for poisson is:\n",
    "\n",
    "for .\n",
    "\n",
    "poisson takes  as shape parameter. When , the pmf method returns 1.0 at quantile .\n",
    "\n",
    "The probability mass function above is defined in the “standardized” form. To shift distribution use the loc parameter. Specifically, poisson.pmf(k, mu, loc) is identically equivalent to poisson.pmf(k - loc, mu).\n",
    "\n",
    "Examples\n",
    "\n",
    "from scipy.stats import poisson\n",
    "import matplotlib.pyplot as plt\n",
    "fig, ax = plt.subplots(1, 1)\n",
    "Calculate the first four moments:\n",
    "\n",
    "mu = 0.6\n",
    "mean, var, skew, kurt = poisson.stats(mu, moments='mvsk')\n",
    "Display the probability mass function (pmf):\n",
    "\n",
    "x = np.arange(poisson.ppf(0.01, mu),\n",
    "              poisson.ppf(0.99, mu))\n",
    "ax.plot(x, poisson.pmf(x, mu), 'bo', ms=8, label='poisson pmf')\n",
    "ax.vlines(x, 0, poisson.pmf(x, mu), colors='b', lw=5, alpha=0.5)\n",
    "Alternatively, the distribution object can be called (as a function) to fix the shape and location. This returns a “frozen” RV object holding the given parameters fixed.\n",
    "\n",
    "Freeze the distribution and display the frozen pmf:\n",
    "\n",
    "rv = poisson(mu)\n",
    "ax.vlines(x, 0, rv.pmf(x), colors='k', linestyles='-', lw=1,\n",
    "        label='frozen pmf')\n",
    "ax.legend(loc='best', frameon=False)\n",
    "plt.show()\n",
    "../../_images/scipy-stats-poisson-1_00_00.png\n",
    "Check accuracy of cdf and ppf:\n",
    "\n",
    "prob = poisson.cdf(x, mu)\n",
    "np.allclose(x, poisson.ppf(prob, mu))\n",
    "True\n",
    "Generate random numbers:\n",
    "\n",
    "r = poisson.rvs(mu, size=1000)\n",
    "Methods\n",
    "\n",
    "rvs(mu, loc=0, size=1, random_state=None)\n",
    "\n",
    "Random variates.\n",
    "\n",
    "pmf(k, mu, loc=0)\n",
    "\n",
    "Probability mass function.\n",
    "\n",
    "logpmf(k, mu, loc=0)\n",
    "\n",
    "Log of the probability mass function.\n",
    "\n",
    "cdf(k, mu, loc=0)\n",
    "\n",
    "Cumulative distribution function.\n",
    "\n",
    "logcdf(k, mu, loc=0)\n",
    "\n",
    "Log of the cumulative distribution function.\n",
    "\n",
    "sf(k, mu, loc=0)\n",
    "\n",
    "Survival function (also defined as 1 - cdf, but sf is sometimes more accurate).\n",
    "\n",
    "logsf(k, mu, loc=0)\n",
    "\n",
    "Log of the survival function.\n",
    "\n",
    "ppf(q, mu, loc=0)\n",
    "\n",
    "Percent point function (inverse of cdf — percentiles).\n",
    "\n",
    "isf(q, mu, loc=0)\n",
    "\n",
    "Inverse survival function (inverse of sf).\n",
    "\n",
    "stats(mu, loc=0, moments=’mv’)\n",
    "\n",
    "Mean(‘m’), variance(‘v’), skew(‘s’), and/or kurtosis(‘k’).\n",
    "\n",
    "entropy(mu, loc=0)\n",
    "\n",
    "(Differential) entropy of the RV.\n",
    "\n",
    "expect(func, args=(mu,), loc=0, lb=None, ub=None, conditional=False)\n",
    "\n",
    "Expected value of a function (of one argument) with respect to the distribution.\n",
    "\n",
    "median(mu, loc=0)\n",
    "\n",
    "Median of the distribution.\n",
    "\n",
    "mean(mu, loc=0)\n",
    "\n",
    "Mean of the distribution.\n",
    "\n",
    "var(mu, loc=0)\n",
    "\n",
    "Variance of the distribution.\n",
    "\n",
    "std(mu, loc=0)\n",
    "\n",
    "Standard deviation of the distribution.\n",
    "\n",
    "interval(confidence, mu, loc=0)\n",
    "\n",
    "Confidence interval with equal areas around the median.\n",
    "\n"
   ]
  }
 ],
 "metadata": {
  "kernelspec": {
   "display_name": "Python 3 (ipykernel)",
   "language": "python",
   "name": "python3"
  },
  "language_info": {
   "codemirror_mode": {
    "name": "ipython",
    "version": 3
   },
   "file_extension": ".py",
   "mimetype": "text/x-python",
   "name": "python",
   "nbconvert_exporter": "python",
   "pygments_lexer": "ipython3",
   "version": "3.9.12"
  }
 },
 "nbformat": 4,
 "nbformat_minor": 5
}
