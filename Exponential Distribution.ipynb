{
 "cells": [
  {
   "cell_type": "markdown",
   "metadata": {},
   "source": [
    "The time-to-failure of an avionic system follow an exponential distribuion with a mean time between failure(MTBF) of 1000 hrs \n",
    "Calculate :\n",
    "\n",
    "1. The probablity that the system will fail before 1000 hrs\n",
    "2. The probablity that it will not fail up to 2000 hrs \n",
    "3. The time by which 10% of the system will fail (ie calculate P10 life)\n",
    "\n",
    "Since time-to-failure is 100 hrs so (x) is 1/1000\n"
   ]
  },
  {
   "cell_type": "markdown",
   "metadata": {},
   "source": [
    "1.Calculate the probablity that the system will fail before 1000 hrs."
   ]
  },
  {
   "cell_type": "markdown",
   "metadata": {},
   "source": [
    "Cummulative distribution up to value 1000 for the exponential distribution will give the probablitjy that the system will fail before 1000 hrs . stats.expon.cdf() takes the number of hrs and mean and scale of the exponential distribution as parameters to calculate CDF"
   ]
  },
  {
   "cell_type": "code",
   "execution_count": 1,
   "metadata": {},
   "outputs": [],
   "source": [
    "import pandas as pd"
   ]
  },
  {
   "cell_type": "code",
   "execution_count": 2,
   "metadata": {},
   "outputs": [],
   "source": [
    "from scipy import stats"
   ]
  },
  {
   "cell_type": "code",
   "execution_count": 3,
   "metadata": {},
   "outputs": [],
   "source": [
    "import seaborn as sn\n",
    "import matplotlib.pyplot as plt"
   ]
  },
  {
   "cell_type": "code",
   "execution_count": 4,
   "metadata": {},
   "outputs": [
    {
     "data": {
      "text/plain": [
       "0.6321201909489325"
      ]
     },
     "execution_count": 4,
     "metadata": {},
     "output_type": "execute_result"
    }
   ],
   "source": [
    "stats.expon.cdf(1000,loc=1/1000,scale=1000)"
   ]
  },
  {
   "cell_type": "markdown",
   "metadata": {},
   "source": [
    "2.Calculate the probablity that it will not fail upto 2000 hrs\n"
   ]
  },
  {
   "cell_type": "markdown",
   "metadata": {},
   "source": [
    "Probablity that the system will not fail up to 2000 hrs is same as the probablity that the system will fail only beyond 2000 hrs . This can be obtained by substracting the probablity that the system will fail up to 2000hrs from total probablity (i.e 1.0)"
   ]
  },
  {
   "cell_type": "code",
   "execution_count": 5,
   "metadata": {},
   "outputs": [
    {
     "data": {
      "text/plain": [
       "0.13533541857196363"
      ]
     },
     "execution_count": 5,
     "metadata": {},
     "output_type": "execute_result"
    }
   ],
   "source": [
    "1-stats.expon.cdf(2000,loc=1/1000,scale=1000)"
   ]
  },
  {
   "cell_type": "markdown",
   "metadata": {},
   "source": [
    "3.Calculate time by which 10% of the system will fail(i.e Calculate P10 life )"
   ]
  },
  {
   "cell_type": "markdown",
   "metadata": {},
   "source": [
    "This can be calculated by ppf(percent point fuction) and is an inverse of CDF    stats.expon.ppf   takes the percent point value and the mean and scale of the exponential distribution "
   ]
  },
  {
   "cell_type": "code",
   "execution_count": 6,
   "metadata": {},
   "outputs": [
    {
     "data": {
      "text/plain": [
       "105.36151565782632"
      ]
     },
     "execution_count": 6,
     "metadata": {},
     "output_type": "execute_result"
    }
   ],
   "source": [
    "stats.expon.ppf(.1,loc=1/1000,scale=1000)"
   ]
  },
  {
   "cell_type": "markdown",
   "metadata": {},
   "source": [
    "That is 105.36 hrs ,105 %of susyeem fails"
   ]
  },
  {
   "cell_type": "markdown",
   "metadata": {},
   "source": [
    "We can visualize the exponential distribution by plotting the pdf function against differnet time-to-failure hrs . We will create a list of time-to-failure ranging from 100 to 5000 and then calculte and plot the pdf against those "
   ]
  },
  {
   "cell_type": "code",
   "execution_count": 8,
   "metadata": {},
   "outputs": [],
   "source": [
    "pdf_pf = pd.DataFrame({'success':range(0,5000,100),'pdf':list(stats.expon.pdf(range(0,5000,100),loc=1/1000,scale=1000))})"
   ]
  },
  {
   "cell_type": "code",
   "execution_count": 9,
   "metadata": {},
   "outputs": [
    {
     "data": {
      "text/plain": [
       "Text(0.5, 0, 'Time to failure')"
      ]
     },
     "execution_count": 9,
     "metadata": {},
     "output_type": "execute_result"
    },
    {
     "data": {
      "image/png": "[encoded data removed]",
      "text/plain": [
       "<Figure size 1000x400 with 1 Axes>"
      ]
     },
     "metadata": {},
     "output_type": "display_data"
    }
   ],
   "source": [
    "plt.figure(figsize=(10,4))\n",
    "sn.barplot(x=pdf_pf.success,y=pdf_pf.pdf)\n",
    "plt.xticks(rotation=90)\n",
    "plt.xlabel('Time to failure')\n"
   ]
  }
 ],
 "metadata": {
  "kernelspec": {
   "display_name": "Python 3",
   "language": "python",
   "name": "python3"
  },
  "language_info": {
   "codemirror_mode": {
    "name": "ipython",
    "version": 3
   },
   "file_extension": ".py",
   "mimetype": "text/x-python",
   "name": "python",
   "nbconvert_exporter": "python",
   "pygments_lexer": "ipython3",
   "version": "3.10.11"
  }
 },
 "nbformat": 4,
 "nbformat_minor": 2
}
