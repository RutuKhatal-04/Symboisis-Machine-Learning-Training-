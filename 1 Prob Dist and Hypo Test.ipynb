{
 "cells": [
  {
   "cell_type": "markdown",
   "id": "56218f5d",
   "metadata": {},
   "source": [
    "# Probabilty Distributions and Hypothesis Tests"
   ]
  },
  {
   "cell_type": "markdown",
   "id": "3ac3aaf0",
   "metadata": {},
   "source": [
    "Example of Binomial Distribution"
   ]
  },
  {
   "cell_type": "raw",
   "id": "b724043a",
   "metadata": {},
   "source": [
    "Fashion Tends Online (FTO)is an e-commerce company that sells women apparel. It is observed that 10% of their coustomers return the items purchased by them for many reasons (such as size, color, and material mismatch). On a specfic day, 20 customers purchased items from FTO. calculate"
   ]
  },
  {
   "cell_type": "raw",
   "id": "836ee97f",
   "metadata": {},
   "source": [
    "1. Probability that exactly 5 customers will return the items.\n",
    "2. Probability that a maximum of 5 customers will return the items.\n",
    "3. Probability that more than 5 customers will return the items purchased by them.\n",
    "4. Average number of customers who are likely to return the items and the variance and the standard deviation of the number of returns"
   ]
  },
  {
   "cell_type": "markdown",
   "id": "31d0e1f9",
   "metadata": {},
   "source": [
    "1. Probability at exact 5 customers will return the items."
   ]
  },
  {
   "cell_type": "raw",
   "id": "b6f1fc12",
   "metadata": {},
   "source": [
    "The function stats.binom.pmf() calculates PMF for binomial distribution and takes three parameters:\n",
    "    a) Expected number of successful trials (5)\n",
    "    b) Total number of trials(20)\n",
    "    c) The probability of success(0.1)\n",
    "    \n",
    "Note : The values in the bracket indicate the value of the parameters."
   ]
  },
  {
   "cell_type": "code",
   "execution_count": 1,
   "id": "9ab08afb",
   "metadata": {},
   "outputs": [
    {
     "data": {
      "text/plain": [
       "0.031921361119954424"
      ]
     },
     "execution_count": 1,
     "metadata": {},
     "output_type": "execute_result"
    }
   ],
   "source": [
    "from scipy import stats\n",
    "stats.binom.pmf(5,20,0.1)"
   ]
  },
  {
   "cell_type": "raw",
   "id": "3d6a23f6",
   "metadata": {},
   "source": [
    "The corresponding probability is 0.03192, that is te probability that exactly 5 customers will return the items is approximately 3%.\n",
    "    To visualize how the PMF varies with increasing number of successful trials, we will create the list of all possible number of successse(0 to 20) and corresponding PMF values and draw a bar plot as shown"
   ]
  },
  {
   "cell_type": "code",
   "execution_count": 2,
   "id": "3bfdbfb7",
   "metadata": {},
   "outputs": [],
   "source": [
    "import pandas as pd\n",
    "#range(0,21) returns all values from 0 to 20 (excluding 21)\n",
    "pmf_df=pd.DataFrame({'success':range(0,21), 'pmf':list (stats.binom.pmf(range(0,21),20,0.1))})"
   ]
  },
  {
   "cell_type": "code",
   "execution_count": 4,
   "id": "3fcd378d",
   "metadata": {},
   "outputs": [
    {
     "data": {
      "text/html": [
       "<div>\n",
       "<style scoped>\n",
       "    .dataframe tbody tr th:only-of-type {\n",
       "        vertical-align: middle;\n",
       "    }\n",
       "\n",
       "    .dataframe tbody tr th {\n",
       "        vertical-align: top;\n",
       "    }\n",
       "\n",
       "    .dataframe thead th {\n",
       "        text-align: right;\n",
       "    }\n",
       "</style>\n",
       "<table border=\"1\" class=\"dataframe\">\n",
       "  <thead>\n",
       "    <tr style=\"text-align: right;\">\n",
       "      <th></th>\n",
       "      <th>success</th>\n",
       "      <th>pmf</th>\n",
       "    </tr>\n",
       "  </thead>\n",
       "  <tbody>\n",
       "    <tr>\n",
       "      <th>0</th>\n",
       "      <td>0</td>\n",
       "      <td>0.121577</td>\n",
       "    </tr>\n",
       "    <tr>\n",
       "      <th>1</th>\n",
       "      <td>1</td>\n",
       "      <td>0.270170</td>\n",
       "    </tr>\n",
       "    <tr>\n",
       "      <th>2</th>\n",
       "      <td>2</td>\n",
       "      <td>0.285180</td>\n",
       "    </tr>\n",
       "    <tr>\n",
       "      <th>3</th>\n",
       "      <td>3</td>\n",
       "      <td>0.190120</td>\n",
       "    </tr>\n",
       "    <tr>\n",
       "      <th>4</th>\n",
       "      <td>4</td>\n",
       "      <td>0.089779</td>\n",
       "    </tr>\n",
       "  </tbody>\n",
       "</table>\n",
       "</div>"
      ],
      "text/plain": [
       "   success       pmf\n",
       "0        0  0.121577\n",
       "1        1  0.270170\n",
       "2        2  0.285180\n",
       "3        3  0.190120\n",
       "4        4  0.089779"
      ]
     },
     "execution_count": 4,
     "metadata": {},
     "output_type": "execute_result"
    }
   ],
   "source": [
    "pmf_df.head()"
   ]
  },
  {
   "cell_type": "code",
   "execution_count": 5,
   "id": "3498e6b4",
   "metadata": {},
   "outputs": [],
   "source": [
    "import seaborn as sn"
   ]
  },
  {
   "cell_type": "code",
   "execution_count": 6,
   "id": "8585667f",
   "metadata": {},
   "outputs": [],
   "source": [
    "import matplotlib.pyplot as plt"
   ]
  },
  {
   "cell_type": "code",
   "execution_count": 7,
   "id": "8c57c75f",
   "metadata": {},
   "outputs": [
    {
     "data": {
      "text/plain": [
       "Text(0.5, 0, 'Number of items returned')"
      ]
     },
     "execution_count": 7,
     "metadata": {},
     "output_type": "execute_result"
    },
    {
     "data": {
      "image/png": "[encoded data removed]",
      "text/plain": [
       "<Figure size 432x288 with 1 Axes>"
      ]
     },
     "metadata": {
      "needs_background": "light"
     },
     "output_type": "display_data"
    }
   ],
   "source": [
    "#Creating a bar plot with number of success as x and pmf as y \n",
    "sn.barplot(x=pmf_df.success, y=pmf_df.pmf)\n",
    "plt.ylabel('pmf')\n",
    "plt.xlabel('Number of items returned')"
   ]
  },
  {
   "cell_type": "markdown",
   "id": "304321b4",
   "metadata": {},
   "source": [
    "2. Probability that a maximum of 5 customers will return the items."
   ]
  },
  {
   "cell_type": "raw",
   "id": "ec4373cd",
   "metadata": {},
   "source": [
    "The class stats.binom.cdf() computes the CDF for binomial distribution. In this case the cumulative distribution function returns the probability that a maximum of 5 customers will return items."
   ]
  },
  {
   "cell_type": "code",
   "execution_count": 8,
   "id": "4083ebcc",
   "metadata": {},
   "outputs": [
    {
     "data": {
      "text/plain": [
       "0.988746865835491"
      ]
     },
     "execution_count": 8,
     "metadata": {},
     "output_type": "execute_result"
    }
   ],
   "source": [
    "stats.binom.cdf(5,20,0.1)"
   ]
  },
  {
   "cell_type": "raw",
   "id": "754967e5",
   "metadata": {},
   "source": [
    "The correspoding probability value is 0.9887"
   ]
  },
  {
   "cell_type": "markdown",
   "id": "5683d42c",
   "metadata": {},
   "source": [
    "3. Probability that more than 5 customers will return the items purchased by item."
   ]
  },
  {
   "cell_type": "raw",
   "id": "eebd7391",
   "metadata": {},
   "source": [
    "Total probability of any number of customers returning items (including 0) is always equal to 1.0. SO, the probability that more than 5 customers will return the items can be computed by subtacting the probability of a maximum of 5 customers will return items from 1.0. In other words, the probability that more than 5 customers will return the items can be obtained by computing CDF of 5 and then substracting it from 1.0."
   ]
  },
  {
   "cell_type": "code",
   "execution_count": 9,
   "id": "6115f76f",
   "metadata": {},
   "outputs": [
    {
     "data": {
      "text/plain": [
       "0.011253134164509015"
      ]
     },
     "execution_count": 9,
     "metadata": {},
     "output_type": "execute_result"
    }
   ],
   "source": [
    "1-stats.binom.cdf(5,20,0.1)"
   ]
  },
  {
   "cell_type": "raw",
   "id": "9143e496",
   "metadata": {},
   "source": [
    "The corresponding probability value is 0.0112"
   ]
  },
  {
   "cell_type": "raw",
   "id": "440f96be",
   "metadata": {},
   "source": [
    "4. Average number of customers who are likely to return the items and the variance and the standard deviation of the number of returns.\n",
    "    a) Average of a binomial distribution is given by n*p\n",
    "    b) Varianbe of the binomial distribution is given by n*p*(1-p)\n",
    "    "
   ]
  },
  {
   "cell_type": "markdown",
   "id": "d0210f55",
   "metadata": {},
   "source": [
    "mean, var = stats.binom.stats(20,0.1)\n",
    "print('Average:',mean,'variance:',var)"
   ]
  }
 ],
 "metadata": {
  "kernelspec": {
   "display_name": "Python 3 (ipykernel)",
   "language": "python",
   "name": "python3"
  },
  "language_info": {
   "codemirror_mode": {
    "name": "ipython",
    "version": 3
   },
   "file_extension": ".py",
   "mimetype": "text/x-python",
   "name": "python",
   "nbconvert_exporter": "python",
   "pygments_lexer": "ipython3",
   "version": "3.9.12"
  }
 },
 "nbformat": 4,
 "nbformat_minor": 5
}
